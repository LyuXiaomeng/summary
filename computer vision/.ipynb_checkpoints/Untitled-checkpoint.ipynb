{
 "cells": [
  {
   "cell_type": "markdown",
   "metadata": {},
   "source": [
    "## 数字图像处理\n",
    "\n",
    "### 1. opencv 遍历像素的方式\n",
    " \n",
    "- ptr操作和指针（高效）\n",
    "\n",
    "  图像数据存储连续，取一个可以指向每一行的指针便可遍历整个图像数据。\n",
    "  ```\n",
    "   uchar* p;\n",
    "    for (int i = 0; i < iRows; i++)\n",
    "    {\n",
    "        // get the pointer to the ith row\n",
    "        p = image.ptr<uchar>(i);\n",
    "        // operates on each pixel\n",
    "        for (int j = 0; j < iCols; j++)\n",
    "        {\n",
    "            // assigns new value\n",
    "            p[j] = table[p[j]];\n",
    "        }\n",
    "    }\n",
    "  ```\n",
    "\n",
    "- 迭代器 （安全）\n",
    "\n",
    "  声明两个MatIterator_变量，一个指向图像开始 一个指向图像结束的位置。\n",
    "  ```\n",
    "   MatIterator_<uchar> it, end;\n",
    "   for (it = image.begin<uchar>(), end = image.end<uchar>(); it != end; it++){\n",
    "     *it = table[*it];\n",
    "   }\n",
    "  ```\n",
    "- 动态地址计算（适合随机访问方式）\n",
    "\n",
    "  指定行列号，返回该位置的像素值。不过需要你事先知道返回的数据类型是uchar还是Vec3b或者其他的\n",
    "  "
   ]
  },
  {
   "cell_type": "markdown",
   "metadata": {},
   "source": [
    "### 2.LBP原理\n",
    "局部二值模式（Local binary patterns）\n",
    "定义在3*3像素邻域内，以邻域中心像素作为阈值，相邻8个像素的灰度值与邻域中心像素值比较，若周围像素大于中心像素，则该像素被标记为1；若周围像素小于中心像素，则该像素标记为0。这样我们可以得到8位的二进制数，组成一个二进制数字，这个二进制数字就是中心像素的LBP值，共有2^8（256）种可能.中心像素的LBP值反映了该像素周围区域的纹理信息。\n",
    "\n",
    "**但这种方法最大的缺陷是 只覆盖了一个固定半径范围内的小区域，不能满足不同尺寸和频率纹理的需要。\n"
   ]
  },
  {
   "cell_type": "markdown",
   "metadata": {},
   "source": [
    "### 3.HOG特征\n",
    "\n"
   ]
  },
  {
   "cell_type": "markdown",
   "metadata": {},
   "source": []
  }
 ],
 "metadata": {
  "kernelspec": {
   "display_name": "Python 2",
   "language": "python",
   "name": "python2"
  },
  "language_info": {
   "codemirror_mode": {
    "name": "ipython",
    "version": 2
   },
   "file_extension": ".py",
   "mimetype": "text/x-python",
   "name": "python",
   "nbconvert_exporter": "python",
   "pygments_lexer": "ipython2",
   "version": "2.7.12"
  }
 },
 "nbformat": 4,
 "nbformat_minor": 2
}
