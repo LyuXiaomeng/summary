{
 "cells": [
  {
   "cell_type": "markdown",
   "metadata": {
    "collapsed": true,
    "deletable": true,
    "editable": true
   },
   "source": [
    "## K邻近算法（KNN）\n",
    "\n",
    "输入：训练集 $T={(x_1,y_1),(x_2,y_2),...,(x_n,y_n)}$,其中，$x_i\\in X\\subseteq R^n$为实例的特征向量，$y_i\\in Y={c_1,c_2,...,c_k}$为实例的类别，$i=1,2,...,N$;实例特征向量$x$；\n",
    "\n",
    "输出：实例$x$所属的类别$y$\n",
    "\n",
    "(1)根据给定的距离度量，在训练集中找出与$x$最近邻的$k$个点，涵盖这$k$个点的邻域记作$N_k (x)$;\n",
    "\n",
    "(2)在$N_k (x)$中根据分类决策规则（如多数表决）决定$x$的类别$y$ :\n",
    "\n",
    "$y=arg \\underset{c_j}{max}\\sum_{x_i\\in N_k (x)}I(y_i=c_i) ,  i = 1,2,...,N; j = 1,2,..,K$\n",
    "\n",
    "$I$ 为指示函数，即当$y_i = c_j$时 $I = 1$,否则为0."
   ]
  },
  {
   "cell_type": "markdown",
   "metadata": {
    "collapsed": true,
    "deletable": true,
    "editable": true
   },
   "source": [
    "### 理解\n",
    "\n",
    "KNN的思路可以理解为如果一个样本在特征空间中的k个最相似(即特征空间中最邻近)的样本中的大多数属于某一个类别，则该样本也属于这个类别。\n",
    "\n",
    "**结果依赖于选择的距离度量方式、K值的选择。**\n",
    "\n",
    "算法可以描述为：\n",
    "\n",
    "计算测试对象与训练对象之间的距离，选择K个与测试对象距离最小的训练对象，统计这K个训练对象所属类别，K个训练对象中出现最多次的类别则为测试对象的类别。\n",
    "\n",
    "### 代码注意\n",
    "\n",
    "knn_list中是存储的最近邻的K个点，但在循环中是先找出最远点与之对比。只有这样才能保证knn_list中的点是最近邻的。"
   ]
  },
  {
   "cell_type": "code",
   "execution_count": 1,
   "metadata": {
    "collapsed": false
   },
   "outputs": [],
   "source": [
    "def KNN(train_data, train_label, predict, k, class_total):\n",
    "    predict_list = []\n",
    "    for pre in predict:\n",
    "        knn_list = []  #存放K个邻近点\n",
    "        max_index = -1 #K个邻近点中最远点的位置\n",
    "        max_dis = 0    #K个邻近点中最远点的距离\n",
    "        \n",
    "        #先将训练集中前K个点放入knn_list\n",
    "        for i in range(k):\n",
    "            data = train_data[i]\n",
    "            label = train_label[i]\n",
    "            dis = np.linalg.norm(data - pre) #欧式距离\n",
    "            knn_list.append((dis, label))\n",
    "            \n",
    "        #除去前K个点后训练集中剩余的点\n",
    "        for i in range(k, len(train_data)):\n",
    "            data = train_data[i]\n",
    "            label = train_label[i]\n",
    "            dis = np.linalg.norm(data - pre)\n",
    "            \n",
    "            #找出K个邻近点中最远点\n",
    "            if max_index < 0:\n",
    "                for j in range(k):\n",
    "                    if max_dis < knn_list[j][0]:  #knn_list遍历寻找dis最大的位置\n",
    "                        max_dis = knn_list[j][0]\n",
    "                        max_index = j\n",
    "           \n",
    "            #若当前点的距离比最远点小，则替换            \n",
    "            if dis < max_dis:\n",
    "                knn_list[max_index] = (dis, label) #这里要把dis 和 label 同时替换！\n",
    "                max_index = -1  # 这里直接把距离和坐标初始化，因为每一次循环都要重新找一次最大距离和坐标，knn_list里面的距离无序\n",
    "                max_dis = 0\n",
    "        \n",
    "        #统计点的label个数\n",
    "        class_count = [0 for i in range(class_total)]\n",
    "       \n",
    "        for dis, label in knn_list:\n",
    "            class_count[label] += 1\n",
    "        max_count = max(class_count) #找出K个点中存在的最多的label\n",
    "        for i in range(class_total):\n",
    "            if max_count == class_count[i]:\n",
    "                predict_list.append(i)\n",
    "                break\n",
    "\n",
    "    return predict_list"
   ]
  },
  {
   "cell_type": "code",
   "execution_count": 2,
   "metadata": {
    "collapsed": false
   },
   "outputs": [
    {
     "name": "stdout",
     "output_type": "stream",
     "text": [
      "[1]\n"
     ]
    }
   ],
   "source": [
    "import numpy as np\n",
    "group = np.array([[1.0,2.0],[1.2,0.1],[0.1,1.4],[0.3,3.5]])\n",
    "labels = [1,1,2,2]\n",
    "k = 3\n",
    "inp = np.array([[1.1,0.3]])\n",
    "out = KNN(group, labels, inp, 3, 3)\n",
    "print out"
   ]
  }
 ],
 "metadata": {
  "kernelspec": {
   "display_name": "Python 2",
   "language": "python",
   "name": "python2"
  },
  "language_info": {
   "codemirror_mode": {
    "name": "ipython",
    "version": 2
   },
   "file_extension": ".py",
   "mimetype": "text/x-python",
   "name": "python",
   "nbconvert_exporter": "python",
   "pygments_lexer": "ipython2",
   "version": "2.7.12"
  }
 },
 "nbformat": 4,
 "nbformat_minor": 2
}
