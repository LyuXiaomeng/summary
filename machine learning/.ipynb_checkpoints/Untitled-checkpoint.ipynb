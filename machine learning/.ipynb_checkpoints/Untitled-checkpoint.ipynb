{
 "cells": [
  {
   "cell_type": "markdown",
   "metadata": {
    "collapsed": true,
    "deletable": true,
    "editable": true
   },
   "source": [
    "## K邻近算法（KNN）\n",
    "\n",
    "输入：训练集 $T={(x_1,y_1),(x_2,y_2),...,(x_n,y_n)}$,其中，$x_i\\in X\\subseteq R^n$为实例的特征向量，$y_i\\in Y={c_1,c_2,...,c_k}$为实例的类别，$i=1,2,...,N$;实例特征向量$x$；\n",
    "\n",
    "输出：实例$x$所属的类别$y$\n",
    "\n",
    "(1)根据给定的距离度量，在训练集中找出与$x$最近邻的$k$个点，涵盖这$k$个点的邻域记作$N_k (x)$;\n",
    "\n",
    "(2)在$N_k (x)$中根据分类决策规则（如多数表决）决定$x$的类别$y$ :\n",
    "\n",
    "$y=arg \\underset{c_j}{max}\\sum_{x_i\\in N_k (x)}I(y_i=c_i) ,  i = 1,2,...,N; j = 1,2,..,K$\n",
    "\n",
    "$I$ 为指示函数，即当$y_i = c_j$时 $I = 1$,否则为0."
   ]
  },
  {
   "cell_type": "code",
   "execution_count": null,
   "metadata": {
    "collapsed": true
   },
   "outputs": [],
   "source": []
  }
 ],
 "metadata": {
  "kernelspec": {
   "display_name": "Python 2",
   "language": "python",
   "name": "python2"
  },
  "language_info": {
   "codemirror_mode": {
    "name": "ipython",
    "version": 2
   },
   "file_extension": ".py",
   "mimetype": "text/x-python",
   "name": "python",
   "nbconvert_exporter": "python",
   "pygments_lexer": "ipython2",
   "version": "2.7.12"
  }
 },
 "nbformat": 4,
 "nbformat_minor": 2
}
