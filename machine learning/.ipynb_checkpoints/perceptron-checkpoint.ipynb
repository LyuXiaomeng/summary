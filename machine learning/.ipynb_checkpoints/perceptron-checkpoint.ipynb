{
 "cells": [
  {
   "cell_type": "markdown",
   "metadata": {
    "deletable": true,
    "editable": true
   },
   "source": [
    "## 感知机（perceptron）\n"
   ]
  },
  {
   "cell_type": "markdown",
   "metadata": {},
   "source": [
    "### 原始算法\n",
    "\n",
    "输入：训练数据集$T={(x_1,y_1),(x_2,y_2),...,(x_N,y_N)}$，其中$x_i\\in X=R^n$，$y_i\\in Y={-1,+1}，i = 1,2,...，N$；学习率 $\\eta (0<\\eta\\leqslant1)$;\n",
    "\n",
    "输出：$w,b$；感知机模型$f(x)=sing(w\\cdot x+b)$.\n",
    "\n",
    "(1) 选取初值$w_0,b_0$\n",
    "\n",
    "(2) 在训练集中选取数据$(x_i,y_i)$\n",
    "\n",
    "(3) 如果$y_i(w\\cdot x_i+b)\\leqslant0$ \n",
    "\n",
    "  $w \\leftarrow w+\\eta y_i x_i$ \n",
    "  \n",
    "  $b \\leftarrow b+\\eta y_i$\n",
    " \n",
    "(4) 转至（2），直到训练集中没有误分类点\n",
    " "
   ]
  },
  {
   "cell_type": "markdown",
   "metadata": {},
   "source": [
    "### 理解：\n",
    "\n",
    "#### 损失函数\n",
    "\n",
    "感知机的损失函数为 $L(w,b)= -\\sum_{x_i\\in M} y_i(w\\cdot x_i+b)$ M为超平面的误分点集合\n",
    "\n",
    "损失函数是误分点到超平面的距离。对于误分类数据来说，损失函数符合当$w\\cdot x_i+b<0$时，$y_i = -1$。$w\\cdot x_i+b>0$时，$y_i = +1$.一定要注意所有的都是对于误分点来说的！\n",
    "\n",
    "#### 随机梯度下降\n",
    "\n",
    "目标是极小化损失函数，w，b的值是根据损失函数对其求梯度给出，并根据学习率进行更新。"
   ]
  },
  {
   "cell_type": "code",
   "execution_count": 3,
   "metadata": {
    "collapsed": false
   },
   "outputs": [
    {
     "name": "stdout",
     "output_type": "stream",
     "text": [
      "('w:(', array([[3.],\n",
      "       [3.]]), ')', 'b:', 1)\n",
      "('w:(', array([[2.],\n",
      "       [2.]]), ')', 'b:', 0)\n",
      "('w:(', array([[1.],\n",
      "       [1.]]), ')', 'b:', -1)\n",
      "('w:(', array([[0.],\n",
      "       [0.]]), ')', 'b:', -2)\n",
      "('w:(', array([[3.],\n",
      "       [3.]]), ')', 'b:', -1)\n",
      "('w:(', array([[2.],\n",
      "       [2.]]), ')', 'b:', -2)\n",
      "('w:(', array([[1.],\n",
      "       [1.]]), ')', 'b:', -3)\n",
      "(array([[1.],\n",
      "       [1.]]), -3)\n"
     ]
    }
   ],
   "source": [
    "import numpy as np\n",
    "\n",
    "def Train(X_train, Y_train):\n",
    "    #获取维度参数\n",
    "    m, n = np.shape(X_train)\n",
    "    #初始化w，b\n",
    "    w = np.zeros((n, 1))\n",
    "    b = 0\n",
    "\n",
    "    while True:\n",
    "        count = m     #统计修改次数，若没有变化，则退出while语句\n",
    "        for i in range(m):\n",
    "            result = Y_train[i]*(np.dot(X_train[i], w) + b)\n",
    "            if result <= 0:           #计算yi(w*xi+b)\n",
    "                count -= 1\n",
    "                #更新w，b\n",
    "                for j in range(n):\n",
    "                    w[j] = w[j] + Y_train[i]*X_train[i][j] \n",
    "                b = b + Y_train[i]\n",
    "\n",
    "                print(\"w:(\",w,\")\",\"b:\",b)\n",
    "                break\n",
    "\n",
    "        if count== m:\n",
    "            break\n",
    "    return w,b\n",
    "\n",
    "def main():\n",
    "    X_train = np.array(([3, 3], [4,3], [1,1]))\n",
    "    Y_train = np.array(([1,1,-1]))\n",
    "    print(Train(X_train, Y_train))\n",
    "\n",
    "if __name__ == '__main__':\n",
    "    main()"
   ]
  },
  {
   "cell_type": "code",
   "execution_count": null,
   "metadata": {
    "collapsed": true
   },
   "outputs": [],
   "source": []
  }
 ],
 "metadata": {
  "kernelspec": {
   "display_name": "Python 2",
   "language": "python",
   "name": "python2"
  },
  "language_info": {
   "codemirror_mode": {
    "name": "ipython",
    "version": 2
   },
   "file_extension": ".py",
   "mimetype": "text/x-python",
   "name": "python",
   "nbconvert_exporter": "python",
   "pygments_lexer": "ipython2",
   "version": "2.7.12"
  }
 },
 "nbformat": 4,
 "nbformat_minor": 2
}
