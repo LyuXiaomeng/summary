{
 "cells": [
  {
   "cell_type": "markdown",
   "metadata": {},
   "source": [
    "## 数字图像处理\n",
    "\n",
    "### 1. opencv 遍历像素的方式\n",
    " \n",
    "- ptr操作和指针（高效）\n",
    "\n",
    "  图像数据存储连续，取一个可以指向每一行的指针便可遍历整个图像数据。\n",
    "  ```\n",
    "   uchar* p;\n",
    "    for (int i = 0; i < iRows; i++)\n",
    "    {\n",
    "        // get the pointer to the ith row\n",
    "        p = image.ptr<uchar>(i);\n",
    "        // operates on each pixel\n",
    "        for (int j = 0; j < iCols; j++)\n",
    "        {\n",
    "            // assigns new value\n",
    "            p[j] = table[p[j]];\n",
    "        }\n",
    "    }\n",
    "  ```\n",
    "\n",
    "- 迭代器 （安全）\n",
    "\n",
    "  声明两个MatIterator_变量，一个指向图像开始 一个指向图像结束的位置。\n",
    "  ```\n",
    "   MatIterator_<uchar> it, end;\n",
    "   for (it = image.begin<uchar>(), end = image.end<uchar>(); it != end; it++){\n",
    "     *it = table[*it];\n",
    "   }\n",
    "  ```\n",
    "- 动态地址计算（适合随机访问方式）\n",
    "\n",
    "  指定行列号，返回该位置的像素值。不过需要你事先知道返回的数据类型是uchar还是Vec3b或者其他的\n",
    "  "
   ]
  },
  {
   "cell_type": "markdown",
   "metadata": {},
   "source": [
    "### 2.LBP原理\n",
    "局部二值模式（Local binary patterns）\n",
    "定义在3*3像素邻域内，以邻域中心像素作为阈值，相邻8个像素的灰度值与邻域中心像素值比较，若周围像素大于中心像素，则该像素被标记为1；若周围像素小于中心像素，则该像素标记为0。这样我们可以得到8位的二进制数，组成一个二进制数字，这个二进制数字就是中心像素的LBP值，共有2^8（256）种可能.中心像素的LBP值反映了该像素周围区域的纹理信息。\n",
    "\n",
    "**但这种方法最大的缺陷是 只覆盖了一个固定半径范围内的小区域，不能满足不同尺寸和频率纹理的需要。\n"
   ]
  },
  {
   "cell_type": "markdown",
   "metadata": {},
   "source": [
    "### 3.HOG特征\n",
    "\n",
    "方向梯度直方图（histogram of oriented gradient） 一种用于表征图像局部梯度方向和梯度强度分布特性的描述符，核心思想是在一副图像中，局部目标的表象和形状（appearance and shape）能够被梯度或边缘的方向密度分布很好地描述。（本质：梯度的统计信息，而梯度主要存在于边缘的地方）。HOG得到的描述子保持了几何和光学转换不变性，主要用于行人检测。\n",
    "\n",
    "首先对一张图像进行灰度化处理，采用Gammar校正法对输入图像的颜色空间归一化（提高图像对比度，降低阴影、光照的影响，抑制噪音），计算每个像素的梯度大小和方向。然后将图像划分为小cell（例如6x6像素/cell），统计每个cell中的梯度直方图，形成cell描述子。将几个cell组合成一个block(例如3x3cell/block)，一个block内所有的cell描述子串联起来便可得到该block的HOG特征描述子。将image内的所有block串联起来就可得到image的HOG特征描述子。\n"
   ]
  },
  {
   "cell_type": "markdown",
   "metadata": {},
   "source": [
    "### 4.opencv里面mat有哪些构造函数？\n",
    "\n",
    "第一种：**Mat(int _rows, int _cols, int _type)**\n",
    "\n",
    "最简单的矩阵构造，定义好行、列、数据类型\n",
    "\n",
    "**type** CV_8UC1这里从构造函数参数类型上来看，其本质就是一个int数. \n",
    "\n",
    "**CV_[每元素占位数][带符号与否][类型前缀]C[通道数]** 这里的CV_8UC1就代表每个元素为8位unsigned char 型，每个像素为1通道。\n",
    "\n",
    "第二种：**Mat(int _rows, int _cols, int _type, const Scalar& _s)**\n",
    "\n",
    "**const Scalar&参数** 可选的参数，用于初始化矩阵的每一个元素为特定值，这个是跟前面类型的通道数挂钩的，通道数为几个，它就是个几维的向量。\n",
    "\n",
    "第三种：**Mat::Mat(Size _sz, int _type, const Scalar& _s)**\n",
    "\n",
    "Size的第一个参数宽，对应图像的横向宽度， Size的第二个参数高，对应图像的纵向高度， Size为2*3，输出矩阵其实是3行2列！\n",
    "\n",
    "第四种：**Mat(int _dims, const int _sz, int _type, const Scalar& _s){…}**\n",
    "\n",
    "这种方式主要用于创建3维和3维以上的矩阵： \n",
    "\n",
    "**_dims**：指定维数 \n",
    "\n",
    "**_sz**：数组指针，此数组包含了每个维度的尺寸，注意，这不是Size类型的，而仅仅是个int数组指针。 \n",
    "\n",
    "第五种：**利用create()函数**\n",
    "\n",
    "void create(int rows, int cols, int type);\n",
    "\n",
    "void create(Size size, int type);\n",
    "\n",
    "void create(int ndims, const int* sizes, int type);\n",
    "\n",
    "第六种：**MATLAB形式初始化**\n",
    "\n",
    "有三种函数：zeros()，ones()，eye()，对应的分别是创建全0阵，全1阵，单位阵。\n"
   ]
  },
  {
   "cell_type": "markdown",
   "metadata": {},
   "source": [
    "### 5.如何将buffer类型转化为mat类型？\n",
    "\n"
   ]
  },
  {
   "cell_type": "markdown",
   "metadata": {},
   "source": [
    "\n",
    "\n",
    "\n",
    "\n",
    "\n",
    "5、\n",
    "\n",
    "6、opencv如何读取png格式的图片？（我貌似记得opencv不能读取png格式的图片，好像每种格式图片的表头不一样，需要转化，给他说了半天他，他也没明白）\n",
    "\n",
    "7、opencv如何读取内存图片？\n",
    "\n",
    "8、opencv里面有哪些库？\n",
    "\n",
    "9、用过opencv里面哪些函数？（我顺带回答了一下canny，HR又问opencv里面有c-a-n-n-y有这几个字母的函数吗，尴尬。。。又问我如何自己写canny边缘检测算法）\n",
    "\n",
    "10、opencv里面为啥是bgr存储图片而不是人们常听的rgb？\n",
    "\n",
    "12、你说opencv里面的HOG+SVM效果很差？他就直接来了句为啥很差？差了就不改了？差了就要换其他方法？、\n",
    "\n",
    "13、讲讲HOG特征？他在dpm里面怎么设计的，你改过吗？HOG能检测边缘吗？里面的核函数是啥？那hog检测边缘和canny有啥区别？\n",
    "\n",
    "13、如何求一张图片的均值？（考虑了溢出和分块求解，貌似不满意。。。回头看看积分图里面如何解决溢出的。）\n",
    "\n",
    "14、如何写程序将图像放大缩小？（我回答的插值，不太对。。。比如放大两倍可以插值，那放大1.1倍呢，）-->放大1.1倍也可以插值\n",
    "\n",
    "15、如何遍历一遍求一张图片的方差？（回答的是采用积分图，并让我推导这样为啥可行。这个问题以前帮同学解决过。。。）"
   ]
  },
  {
   "cell_type": "code",
   "execution_count": null,
   "metadata": {},
   "outputs": [],
   "source": []
  }
 ],
 "metadata": {
  "kernelspec": {
   "display_name": "Python 2",
   "language": "python",
   "name": "python2"
  },
  "language_info": {
   "codemirror_mode": {
    "name": "ipython",
    "version": 2
   },
   "file_extension": ".py",
   "mimetype": "text/x-python",
   "name": "python",
   "nbconvert_exporter": "python",
   "pygments_lexer": "ipython2",
   "version": "2.7.15"
  }
 },
 "nbformat": 4,
 "nbformat_minor": 2
}
